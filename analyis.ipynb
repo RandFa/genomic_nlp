{
 "cells": [
  {
   "cell_type": "markdown",
   "metadata": {},
   "source": [
    "# Deciphering microbial gene function using natural language processing\n",
    "\n",
    "In this notebook, I rework part of the computation performed in the following paper: https://www.nature.com/articles/s41467-022-33397-4\n",
    "\n"
   ]
  },
  {
   "cell_type": "markdown",
   "metadata": {},
   "source": [
    "##  Introduction\n",
    "In the modern age, where vast amounts of genetic data are accumulating at an unprecedented pace, the exploration of microbial \n",
    "communities through metagenomics emerges as a promising frontier. Within these diverse ecosystems lie genes waiting to be understood, \n",
    "holding potential applications  in biotechnology and medicine. Yet, many of these genes remain uncharacterized, posing a significant \n",
    "challenge to microbial genomics.Depending the concept of genomic context, and natural language processing techniques, the goal is to \n",
    "unveil the 'semantics' of genes. By clustering genes into families and analyzing their genomic neighborhoods.\n",
    "\n"
   ]
  },
  {
   "cell_type": "code",
   "execution_count": 73,
   "metadata": {},
   "outputs": [],
   "source": [
    "# import general libraries\n",
    "import codecs\n",
    "import glob\n",
    "import multiprocessing\n",
    "from tqdm import tqdm\n",
    "import pandas as pd\n",
    "import os\n",
    "import re\n",
    "import csv\n",
    "import urllib.request\n",
    "import io\n",
    "import gzip\n",
    "import pickle\n",
    "import numpy as np\n",
    "import matplotlib.pyplot as plt\n",
    "import seaborn as sns\n",
    "from collections import Counter\n",
    "\n",
    "\n",
    "# importing bioinformatics libraries\n",
    "import pyrodigal\n",
    "from Bio import Entrez, SeqIO\n",
    "from Bio.KEGG import REST\n",
    "\n",
    "# importing embedding libraries\n",
    "from gensim.models.word2vec import LineSentence\n",
    "from gensim.models import word2vec as w2v, Word2Vec\n",
    "\n",
    "# importinf classification libraries\n",
    "from scikeras.wrappers import KerasClassifier\n",
    "from sklearn.model_selection import train_test_split, RandomizedSearchCV, GridSearchCV\n",
    "from sklearn.metrics import  classification_report, accuracy_score, f1_score\n",
    "from sklearn.preprocessing import LabelEncoder\n",
    "from sklearn.ensemble import RandomForestClassifier\n",
    "import xgboost as xgb\n",
    "import tensorflow as tf\n",
    "\n",
    "# suppress warnings\n",
    "import warnings\n",
    "warnings.filterwarnings('ignore')"
   ]
  },
  {
   "cell_type": "markdown",
   "metadata": {},
   "source": [
    "## Analysis\n",
    "\n",
    "### Step 1: Genomic data downloading and preprocessing: \n",
    "\n",
    "\n",
    "1- I downloaded all the biosamples accession numbers, excluding for Eukaryotics, as well as all the metagenomes, that were publicly available in NCBI WGS directly from the following link: https://www.ncbi.nlm.nih.gov/Traces/wgs/"
   ]
  },
  {
   "cell_type": "code",
   "execution_count": 194,
   "metadata": {},
   "outputs": [
    {
     "data": {
      "text/html": [
       "<div>\n",
       "<style scoped>\n",
       "    .dataframe tbody tr th:only-of-type {\n",
       "        vertical-align: middle;\n",
       "    }\n",
       "\n",
       "    .dataframe tbody tr th {\n",
       "        vertical-align: top;\n",
       "    }\n",
       "\n",
       "    .dataframe thead th {\n",
       "        text-align: right;\n",
       "    }\n",
       "</style>\n",
       "<table border=\"1\" class=\"dataframe\">\n",
       "  <thead>\n",
       "    <tr style=\"text-align: right;\">\n",
       "      <th></th>\n",
       "      <th>prefix_s</th>\n",
       "      <th>project_s</th>\n",
       "      <th>targeted_locus_name_s</th>\n",
       "      <th>div_s</th>\n",
       "      <th>organism_an</th>\n",
       "      <th>bioproject_s</th>\n",
       "      <th>biosample_ss</th>\n",
       "      <th>keyword_ss</th>\n",
       "      <th>infra_name_ss</th>\n",
       "      <th>other_src_ss</th>\n",
       "      <th>...</th>\n",
       "      <th>contigs_proteins_count_l</th>\n",
       "      <th>contigs_annotated_s</th>\n",
       "      <th>scaffolds_count_l</th>\n",
       "      <th>scaffolds_proteins_count_l</th>\n",
       "      <th>scaffolds_total_length_l</th>\n",
       "      <th>scaffolds_annotated_s</th>\n",
       "      <th>scaffolds_range_ss</th>\n",
       "      <th>chromosome_range_ss</th>\n",
       "      <th>update_date_dt</th>\n",
       "      <th>create_date_dt</th>\n",
       "    </tr>\n",
       "  </thead>\n",
       "  <tbody>\n",
       "    <tr>\n",
       "      <th>0</th>\n",
       "      <td>QQNL01</td>\n",
       "      <td>WGS</td>\n",
       "      <td>NaN</td>\n",
       "      <td>BCT</td>\n",
       "      <td>Bifidobacterium breve</td>\n",
       "      <td>PRJNA482538</td>\n",
       "      <td>SAMN09708624</td>\n",
       "      <td>WGS; UNVERIFIED; UNVERIFIED_CONTAMINANT</td>\n",
       "      <td>strain: CUL73</td>\n",
       "      <td>host: Homo sapiens,isolation_source: feces</td>\n",
       "      <td>...</td>\n",
       "      <td>1978</td>\n",
       "      <td>Yes</td>\n",
       "      <td>0</td>\n",
       "      <td>0</td>\n",
       "      <td>0</td>\n",
       "      <td>No</td>\n",
       "      <td>NaN</td>\n",
       "      <td>NaN</td>\n",
       "      <td>2024-01-29T00:00:00Z</td>\n",
       "      <td>2024-01-29T00:00:00Z</td>\n",
       "    </tr>\n",
       "    <tr>\n",
       "      <th>1</th>\n",
       "      <td>QQNU01</td>\n",
       "      <td>WGS</td>\n",
       "      <td>NaN</td>\n",
       "      <td>BCT</td>\n",
       "      <td>Lactobacillus acidophilus</td>\n",
       "      <td>PRJNA482451</td>\n",
       "      <td>SAMN09705759</td>\n",
       "      <td>WGS; UNVERIFIED; UNVERIFIED_CONTAMINANT</td>\n",
       "      <td>strain: 6308</td>\n",
       "      <td>NaN</td>\n",
       "      <td>...</td>\n",
       "      <td>2265</td>\n",
       "      <td>Yes</td>\n",
       "      <td>0</td>\n",
       "      <td>0</td>\n",
       "      <td>0</td>\n",
       "      <td>No</td>\n",
       "      <td>NaN</td>\n",
       "      <td>NaN</td>\n",
       "      <td>2024-01-29T00:00:00Z</td>\n",
       "      <td>2024-01-29T00:00:00Z</td>\n",
       "    </tr>\n",
       "    <tr>\n",
       "      <th>2</th>\n",
       "      <td>QQNJ01</td>\n",
       "      <td>WGS</td>\n",
       "      <td>NaN</td>\n",
       "      <td>BCT</td>\n",
       "      <td>Bifidobacterium animalis</td>\n",
       "      <td>PRJNA482547</td>\n",
       "      <td>SAMN09708695</td>\n",
       "      <td>WGS; UNVERIFIED; UNVERIFIED_CONTAMINANT</td>\n",
       "      <td>strain: CUL20</td>\n",
       "      <td>NaN</td>\n",
       "      <td>...</td>\n",
       "      <td>1629</td>\n",
       "      <td>Yes</td>\n",
       "      <td>0</td>\n",
       "      <td>0</td>\n",
       "      <td>0</td>\n",
       "      <td>No</td>\n",
       "      <td>NaN</td>\n",
       "      <td>NaN</td>\n",
       "      <td>2024-01-29T00:00:00Z</td>\n",
       "      <td>2024-01-29T00:00:00Z</td>\n",
       "    </tr>\n",
       "    <tr>\n",
       "      <th>3</th>\n",
       "      <td>QQNK01</td>\n",
       "      <td>WGS</td>\n",
       "      <td>NaN</td>\n",
       "      <td>BCT</td>\n",
       "      <td>Bifidobacterium longum</td>\n",
       "      <td>PRJNA482540</td>\n",
       "      <td>SAMN09708657</td>\n",
       "      <td>WGS; UNVERIFIED; UNVERIFIED_CONTAMINANT</td>\n",
       "      <td>strain: CUL75</td>\n",
       "      <td>host: Homo sapiens,isolation_source: feces</td>\n",
       "      <td>...</td>\n",
       "      <td>1953</td>\n",
       "      <td>Yes</td>\n",
       "      <td>0</td>\n",
       "      <td>0</td>\n",
       "      <td>0</td>\n",
       "      <td>No</td>\n",
       "      <td>NaN</td>\n",
       "      <td>NaN</td>\n",
       "      <td>2024-01-29T00:00:00Z</td>\n",
       "      <td>2024-01-29T00:00:00Z</td>\n",
       "    </tr>\n",
       "    <tr>\n",
       "      <th>4</th>\n",
       "      <td>QQNM01</td>\n",
       "      <td>WGS</td>\n",
       "      <td>NaN</td>\n",
       "      <td>BCT</td>\n",
       "      <td>Bifidobacterium breve</td>\n",
       "      <td>PRJNA482528</td>\n",
       "      <td>SAMN09708580</td>\n",
       "      <td>WGS; UNVERIFIED; UNVERIFIED_CONTAMINANT</td>\n",
       "      <td>strain: M16-V</td>\n",
       "      <td>host: Homo sapiens,isolation_source: feces</td>\n",
       "      <td>...</td>\n",
       "      <td>2027</td>\n",
       "      <td>Yes</td>\n",
       "      <td>0</td>\n",
       "      <td>0</td>\n",
       "      <td>0</td>\n",
       "      <td>No</td>\n",
       "      <td>NaN</td>\n",
       "      <td>NaN</td>\n",
       "      <td>2024-01-29T00:00:00Z</td>\n",
       "      <td>2024-01-29T00:00:00Z</td>\n",
       "    </tr>\n",
       "  </tbody>\n",
       "</table>\n",
       "<p>5 rows × 22 columns</p>\n",
       "</div>"
      ],
      "text/plain": [
       "  prefix_s project_s  targeted_locus_name_s div_s                organism_an  \\\n",
       "0   QQNL01       WGS                    NaN   BCT      Bifidobacterium breve   \n",
       "1   QQNU01       WGS                    NaN   BCT  Lactobacillus acidophilus   \n",
       "2   QQNJ01       WGS                    NaN   BCT   Bifidobacterium animalis   \n",
       "3   QQNK01       WGS                    NaN   BCT     Bifidobacterium longum   \n",
       "4   QQNM01       WGS                    NaN   BCT      Bifidobacterium breve   \n",
       "\n",
       "  bioproject_s  biosample_ss                               keyword_ss  \\\n",
       "0  PRJNA482538  SAMN09708624  WGS; UNVERIFIED; UNVERIFIED_CONTAMINANT   \n",
       "1  PRJNA482451  SAMN09705759  WGS; UNVERIFIED; UNVERIFIED_CONTAMINANT   \n",
       "2  PRJNA482547  SAMN09708695  WGS; UNVERIFIED; UNVERIFIED_CONTAMINANT   \n",
       "3  PRJNA482540  SAMN09708657  WGS; UNVERIFIED; UNVERIFIED_CONTAMINANT   \n",
       "4  PRJNA482528  SAMN09708580  WGS; UNVERIFIED; UNVERIFIED_CONTAMINANT   \n",
       "\n",
       "   infra_name_ss                                other_src_ss  ...  \\\n",
       "0  strain: CUL73  host: Homo sapiens,isolation_source: feces  ...   \n",
       "1   strain: 6308                                         NaN  ...   \n",
       "2  strain: CUL20                                         NaN  ...   \n",
       "3  strain: CUL75  host: Homo sapiens,isolation_source: feces  ...   \n",
       "4  strain: M16-V  host: Homo sapiens,isolation_source: feces  ...   \n",
       "\n",
       "   contigs_proteins_count_l  contigs_annotated_s  scaffolds_count_l  \\\n",
       "0                      1978                  Yes                  0   \n",
       "1                      2265                  Yes                  0   \n",
       "2                      1629                  Yes                  0   \n",
       "3                      1953                  Yes                  0   \n",
       "4                      2027                  Yes                  0   \n",
       "\n",
       "  scaffolds_proteins_count_l  scaffolds_total_length_l  scaffolds_annotated_s  \\\n",
       "0                          0                         0                     No   \n",
       "1                          0                         0                     No   \n",
       "2                          0                         0                     No   \n",
       "3                          0                         0                     No   \n",
       "4                          0                         0                     No   \n",
       "\n",
       "   scaffolds_range_ss chromosome_range_ss        update_date_dt  \\\n",
       "0                 NaN                 NaN  2024-01-29T00:00:00Z   \n",
       "1                 NaN                 NaN  2024-01-29T00:00:00Z   \n",
       "2                 NaN                 NaN  2024-01-29T00:00:00Z   \n",
       "3                 NaN                 NaN  2024-01-29T00:00:00Z   \n",
       "4                 NaN                 NaN  2024-01-29T00:00:00Z   \n",
       "\n",
       "         create_date_dt  \n",
       "0  2024-01-29T00:00:00Z  \n",
       "1  2024-01-29T00:00:00Z  \n",
       "2  2024-01-29T00:00:00Z  \n",
       "3  2024-01-29T00:00:00Z  \n",
       "4  2024-01-29T00:00:00Z  \n",
       "\n",
       "[5 rows x 22 columns]"
      ]
     },
     "execution_count": 194,
     "metadata": {},
     "output_type": "execute_result"
    }
   ],
   "source": [
    "# investigating dataset downloaded fromn NCBI for bacteria\n",
    "df = pd.read_csv('./downloaded_data/wgs_selector_Bacteria.csv', nrows=10)\n",
    "df.head()"
   ]
  },
  {
   "cell_type": "markdown",
   "metadata": {},
   "source": [
    "2- I then retrieved FASTA files of genomes and saved them using Entrez package from Biopython library to find ftp links, and urrlib library to scrape the data\n"
   ]
  },
  {
   "cell_type": "code",
   "execution_count": null,
   "metadata": {},
   "outputs": [],
   "source": [
    "# downloading genomes using biosample accession number\n",
    "\n",
    "def download_file(url, directory, organism_file):\n",
    "    '''\n",
    "    a function to download genomes fasta files using ftp links\n",
    "    Input:\n",
    "        url: link for scraping\n",
    "        directory: parent directory to save information in\n",
    "        organism_file: the subdirectory for each organism where fasta file should be saved\n",
    "    Output: \n",
    "        Genome files for each organism are downloaded and save in their corresponding folder\n",
    "    '''\n",
    "    # creating target subdirectory\n",
    "    organism_file = '_'.join(organism_file.split( ))  # replace spaces in organism_file with underscores\n",
    "    directory = directory+'/'+ organism_file  # create full path for the organism\n",
    "    os.makedirs(directory, exist_ok=True)  # create the directory if it doesn't exist\n",
    "    filename = url.split('/')[-1]  # extract the filename from the URL\n",
    "\n",
    "    # scraping the information\n",
    "    filepath = os.path.join(directory, filename)  # create the full file path\n",
    "    url = url+ '/'+filename+'_genomic.fna.gz'  # modify the URL to point to the genomic file\n",
    "    urllib.request.urlretrieve(url, filepath)  # download the file and save it to the filepath\n",
    "\n",
    "def download_genomes(sample_numbers, download_directory, organisms):\n",
    "    ''''\n",
    "    a function to download genomes given biosample accession number\n",
    "\n",
    "    Input:\n",
    "        sample numbers: biosample numbers\n",
    "        download_drectory: path to download_directory to save the file in\n",
    "        organisms: names of organisms samples belong to\n",
    "\n",
    "    Output: \n",
    "        genomes downloaded and saved in target directory\n",
    "    '''\n",
    "    Entrez.email = \"randfatttouh@gmail.com\"  # Set your email here\n",
    "\n",
    "    # looping through sample number and search and read their information using Entrez library\n",
    "    for i in range(len(sample_numbers)):\n",
    "        sample_number = sample_numbers[i]  # get the current sample number\n",
    "        organism = organisms[i]  # get the current organism name\n",
    "        handle = Entrez.esearch(db=\"assembly\", term=f\"{sample_number}[BioSample]\")  # search for the assembly\n",
    "        record = Entrez.read(handle)  # read the search results\n",
    "        handle.close()  # close the handle\n",
    "\n",
    "        if record['Count'] == \"0\":  # check if no results were found\n",
    "            continue  # skip to the next sample number\n",
    "\n",
    "        assembly_id = record['IdList'][0]  # get the first assembly ID from the results\n",
    "        # Download assembly summary\n",
    "        handle = Entrez.esummary(db=\"assembly\", id=assembly_id)\n",
    "        summary = Entrez.read(handle)\n",
    "        handle.close()\n",
    "\n",
    "        # check if 'DocumentSummarySet' and 'DocumentSummary' keys are present\n",
    "        if 'DocumentSummarySet' in summary and 'DocumentSummary' in summary['DocumentSummarySet']:\n",
    "            documents = summary['DocumentSummarySet']['DocumentSummary']\n",
    "            # loop over documents and download their associated genomes using provided ftp_path\n",
    "            for document in documents:\n",
    "                if 'FtpPath_GenBank' in document:\n",
    "                    ftp_link = document['FtpPath_GenBank']\n",
    "                    ftp_link = ftp_link.replace(\"ftp://\", \"https://\")\n",
    "                    # Call the download_file function to download the genome\n",
    "                    download_file(ftp_link, download_directory, organism)\n",
    "\n"
   ]
  },
  {
   "cell_type": "markdown",
   "metadata": {},
   "source": [
    "3- Following that, I used prodigal to predict genes from contigs longer than 10 kbp"
   ]
  },
  {
   "cell_type": "code",
   "execution_count": null,
   "metadata": {},
   "outputs": [],
   "source": [
    "# predicting genes\n",
    "def predict_genes(tax):\n",
    "    '''\n",
    "    a function to predict genes from contigs longer than 10 kbp using prodigal\n",
    "    Input:\n",
    "        taxnomy group to find path in deirectory\n",
    "    Output: \n",
    "        the predicted genes from genome files saved as FASTA in their corresponding folders\n",
    "    '''\n",
    "    ## predicting genes from genomes\n",
    "    orf_finder = pyrodigal.GeneFinder(meta=True)  # initializing gene finder with meta mode\n",
    "    organisms = glob.glob('./downloaded_genomes/'+tax+'/*')  # getting all the subdirectories\n",
    "\n",
    "    # adding all the genes of one sample in one file\n",
    "    for organism in organisms:  # looping over directories\n",
    "        os.makedirs('predicted_genes/'+tax+'/'+organism.split('/')[-1], exist_ok=True)  # creating file for organism in predicted folder\n",
    "        wgss = glob.glob(organism+'/*')  # getting all biosample files\n",
    "        for wgs in wgss:  # looping over the biosample files\n",
    "            new_fasta = []\n",
    "            with gzip.open(wgs, \"rt\") as handle:  # opening the genome file in read text mode\n",
    "                for record in SeqIO.parse(handle, \"fasta\"):  # parsing the fasta records\n",
    "                    if len(record) > 10000:  # checking if the contig length is greater than 10 kbp\n",
    "                        for i, pred in enumerate(orf_finder.find_genes(bytes(record.seq))):  # predicting genes\n",
    "                            new_fasta.append('>{0}_{1}\\n{2}'.format(record.id, i+1, pred.sequence()))  # formatting the gene sequence\n",
    "            new_path = 'predicted_genes/'+tax+'/'+organism.split('/')[-1]+'/'+wgs.split('/')[-1]+'.fasta'  # creating path for the new fasta file\n",
    "            with open(new_path, 'w') as f:  # opening the new fasta file in write mode\n",
    "                f.write('\\n'.join(new_fasta))  # writing the predicted genes to the file\n",
    "\n",
    "# looping through the different taxonomical groups to perform genome downloading and gene prediction\n",
    "taxonomies = ['Bacteria', 'metagenomes', 'Viruses', 'Archaea']\n",
    "for tax in taxonomies:  # looping over taxonomies (folders)\n",
    "    df = pd.read_csv('downloaded_data/wgs_selector_'+tax+'.csv', nrows=50)  # reading the corresponding file\n",
    "    sample_numbers = df['biosample_ss']  # extracting biosample accession numbers\n",
    "    organisms = df['organism_an']  # extracting organism names\n",
    "    download_directory = \"downloaded_genomes/\"+tax  # setting the parent download directory\n",
    "    os.makedirs(download_directory, exist_ok=True)  # creating the downloaded_genomes directory\n",
    "    os.makedirs('predicted_genes/'+tax, exist_ok=True)  # creating the predicted_genes directory\n",
    "    # calling download_genomes and predict_genes functions\n",
    "    download_genomes(sample_numbers, download_directory, organisms)  # downloading genomes\n",
    "    predict_genes(tax)  # predicting genes\n"
   ]
  },
  {
   "cell_type": "markdown",
   "metadata": {},
   "source": [
    "4- In the forth step, I deduplicated genes and annotated them. Since metagenomes and microbial genes are different in length, I used BBMAP dedupe utility to get rid of metagenomical duplictaes. "
   ]
  },
  {
   "cell_type": "code",
   "execution_count": null,
   "metadata": {
    "vscode": {
     "languageId": "shellscript"
    }
   },
   "outputs": [],
   "source": [
    "# from bbam file path, deduplication of metagenomical genes\n",
    "\n",
    "# looping through each subdirectory in the metagenomes directory\n",
    "for T in ../models_and_data/predicted_genes/metagenomes/*/; do\n",
    "  # getting the basename of the current subdirectory\n",
    "  T_basename=$(basename \"$T\")\n",
    "  # looping through each fasta file in the current subdirectory\n",
    "  for D in \"$T\"*.fasta; do\n",
    "    # getting the basename of the current fasta file without the .fasta extension\n",
    "    N=$(basename \"$D\" .fasta)\n",
    "    # running the dedupe.sh script on the current fasta file and output to a new file with _deduped suffix\n",
    "    ./dedupe.sh in=\"$D\" out=../models_and_data/predicted_genes/metagenomes/\"$T_basename/$N\"_deduped.fasta\n",
    "  done\n",
    "done\n",
    "\n"
   ]
  },
  {
   "cell_type": "markdown",
   "metadata": {},
   "source": [
    "5- Finally, I did annotation using Prokka. For the other taxonomical groups, I used Prokka for both steps (deduplication and annotation)."
   ]
  },
  {
   "cell_type": "code",
   "execution_count": null,
   "metadata": {
    "vscode": {
     "languageId": "shellscript"
    }
   },
   "outputs": [],
   "source": [
    "# annotation of files using prokka with deduplication for genes not in metagenomes\n",
    "\n",
    "# looping through each subdirectory in the current directory\n",
    "for T in */; do\n",
    "  T=${T%/}  # removing the trailing slash from the directory name\n",
    "  if [ \"$T\" != \"metagenomes\" ]; then  # checking if the directory is not \"metagenomes\"\n",
    "    cd \"$T\"  # chenging to the directory\n",
    "    for D in */; do  # looping through each subdirectory\n",
    "      D=${D%/}  # removing the trailing slash from the directory name\n",
    "      cd \"$D\"  # changing to the directory\n",
    "      for F in *.fasta; do  # looping through each fasta file\n",
    "        N=$(basename $F .fa)  # getting the basename of the file without the .fa extension\n",
    "        prokka $N --outdir ../../../annotations/\"$T/$D\" --kingdom $T  # runnin prokka on the file\n",
    "      done\n",
    "      cd ..  # changing back to the parent directory\n",
    "    done\n",
    "    cd ..  # changing back to the parent directory\n",
    "  else\n",
    "    T=${T%/}  # removing the trailing slash from the directory name\n",
    "    cd \"$T\"  # changing to the \"metagenomes\" directory\n",
    "    for D in */; do  # looping through each subdirectory\n",
    "      D=${D%/}  # removing the trailing slash from the directory name\n",
    "      case \"$D\" in\n",
    "        viral_metagenome)\n",
    "          kingdom=\"Virus\"  # setting kingdom to Virus for viral_metagenome\n",
    "          ;;\n",
    "        *)\n",
    "          kingdom=\"Bacteria\"  # defaulting to Bacteria if not specified\n",
    "          ;;\n",
    "      esac\n",
    "      cd \"$D\"  # changing to the directory\n",
    "      for F in *_deduped.fasta; do  # looping through each deduped fasta file\n",
    "        N=$(basename $F .fa)  # getting the basename of the file without the .fa extension\n",
    "        prokka $N --outdir ../../../annotations/\"$T/$D\" --rawproduct --metagenome --kingdom \"$kingdom\"  # running prokka on the file with metagenome option\n",
    "      done\n",
    "      cd ..  # changing back to the parent directory\n",
    "    done\n",
    "    cd ..  # changing back to the parent directory\n",
    "  fi\n",
    "done\n"
   ]
  },
  {
   "cell_type": "markdown",
   "metadata": {},
   "source": [
    "## Step 2: KO orthology clustering\n",
    "\n",
    "\n",
    "1 - Downmoad all KO from KEGG database using using REST module from Bio kegg (biopython)."
   ]
  },
  {
   "cell_type": "code",
   "execution_count": 113,
   "metadata": {},
   "outputs": [
    {
     "name": "stdout",
     "output_type": "stream",
     "text": [
      "        0                                                  1\n",
      "0  K00001  E1.1.1.1, adh; alcohol dehydrogenase [EC:1.1.1.1]\n",
      "1  K00002  AKR1A1, adh; alcohol dehydrogenase (NADP+) [EC...\n",
      "2  K00003         hom; homoserine dehydrogenase [EC:1.1.1.3]\n",
      "3  K00004  BDH, butB; (R,R)-butanediol dehydrogenase / me...\n",
      "4  K00005          gldA; glycerol dehydrogenase [EC:1.1.1.6]\n"
     ]
    }
   ],
   "source": [
    "# extracting all KO othrology information\n",
    "ko_orth = REST.kegg_list(\"orthology\").read()  # retirieving KO orthology information from KEGG\n",
    "ko_orth= pd.read_table(io.StringIO(ko_orth), header=None)  # reading the retrieved information into a DataFrame\n",
    "print(ko_orth.head())  # printing the first few rows of the DataFrame"
   ]
  },
  {
   "cell_type": "code",
   "execution_count": 126,
   "metadata": {},
   "outputs": [
    {
     "name": "stdout",
     "output_type": "stream",
     "text": [
      "Glycine, serine and threonine metabolism\n"
     ]
    }
   ],
   "source": [
    "# retreiving information for a specific KO entry (in this case, K00003)\n",
    "response = REST.kegg_get('K00003').read() \n",
    "third_level_category = None\n",
    "for line in response.splitlines():\n",
    "    if line.startswith(\"BRITE\"):\n",
    "        category_lines = response.splitlines()\n",
    "        index = category_lines.index(line)\n",
    "        # Next lines after BRITE contain hierarchy information\n",
    "        for i in range(index, index+10):\n",
    "                if i == index+3:\n",
    "                    third_level_category = category_lines[i].strip()\n",
    "                    break\n"
   ]
  },
  {
   "cell_type": "markdown",
   "metadata": {},
   "source": [
    "2- Get the list of proteins associated with each ko number."
   ]
  },
  {
   "cell_type": "code",
   "execution_count": null,
   "metadata": {},
   "outputs": [],
   "source": [
    "# extract proteins associated with each KO number\n",
    "def extract_protein_associations(ko_info):\n",
    "    '''\n",
    "    a function to extract proteins associated with each KO number\n",
    "    Input:\n",
    "        KO number\n",
    "    Output:\n",
    "        saves a fasta file with all protein sequences associated with each KO number\n",
    "    '''\n",
    "    ko_info= REST.kegg_get(ko_info).read()  # retrieve KO information from KEGG\n",
    "    proteins = ''\n",
    "    # loop over genes associated with KO and retrieve the proteins associated with them and their sequence\n",
    "    genes = ko_info.split('GENES')[1].split('\\n')  # extract genes associated with KO\n",
    "    for gene in genes:\n",
    "        if gene[0] != ' ':  # check if it's a gene entry\n",
    "            break\n",
    "        else:\n",
    "            if '(' in gene:  # check if there are proteins associated with the gene\n",
    "                access = gene.strip().split(':')[0].lower()\n",
    "                for num in gene.split(':')[1].split(' '):  # extract proteins\n",
    "                    if '(' in num:\n",
    "                        protein = access+':'+num.split('(')[0]\n",
    "                        proteins += io.StringIO(REST.kegg_get(protein, 'aaseq').read()).getvalue()\n",
    "    new_path = 'ko_proteins/'+ko_info+'.fasta'\n",
    "    with open(new_path, 'w') as f:  # save fasta file\n",
    "        f.write(proteins)\n",
    "    # getting third level function\n",
    "    for line in ko_info.splitlines():\n",
    "        if line.startswith(\"BRITE\"):\n",
    "            category_lines = response.splitlines()\n",
    "            index = category_lines.index(line)\n",
    "            # Next lines after BRITE contain hierarchy information\n",
    "            for i in range(index, index+10):\n",
    "                if i == index+3:\n",
    "                    return category_lines[i].strip()\n",
    "\n",
    "## calling extract proteins function for each KO number\n",
    "os.makedirs('ko_proteins/', exist_ok=True)  # create directory for saving KO proteins\n",
    "functions = []\n",
    "for ko_info in list(ko_orth[0])[:30]:  # loop through first 30 KO numbers\n",
    "    functions.append(extract_protein_associations(ko_info))\n",
    "\n",
    "# building KO function mapping dataframe and saving it\n",
    "functions_df = pd.DataFrame({'KO': ko_orth[0], 'function': functions})  # create DataFrame with KO and function information\n",
    "functions_df.to_csv('./ko_function.csv')  # save DataFrame to CSV file\n"
   ]
  },
  {
   "cell_type": "markdown",
   "metadata": {},
   "source": [
    "3- Subcluster each KO cluster into smaller groups usng mmseq2"
   ]
  },
  {
   "cell_type": "code",
   "execution_count": null,
   "metadata": {
    "vscode": {
     "languageId": "shellscript"
    }
   },
   "outputs": [],
   "source": [
    "#subclustering cluster into smaller groups in ko_proteins folder\n",
    "\n",
    "# looping through each fasta file in the current directory\n",
    "for T in *.fasta; do\n",
    "    T=$(basename \"$T\" .fasta)  # extracting the basename of the fasta file without the .fasta extension\n",
    "    mkdir -p ./\"$T\"  # creating a directory with the basename of the fasta file\n",
    "    mkdir -p ./\"$T\"/clusters  # creating a 'clusters' subdirectory inside the created directory\n",
    "    mmseqs createdb \"$T\".fasta ./\"$T\"/\"$T\"DB  # creating a MMseqs2 database from the fasta file\n",
    "    mmseqs cluster ./\"$T\"/\"$T\"DB ./\"$T\"/clusters/\"$T\"_clusteredDB tmp  -s 7.5 -c 0.5  # clustering sequences in the database\n",
    "    mmseqs createtsv ./\"$T\"/\"$T\"DB ./\"$T\"/\"$T\"DB ./\"$T\"/clusters/\"$T\"_clusteredDB ./\"$T\"/clusters/\"$T\"_clusteredDB.tsv  # creating a TSV file from the clustered sequences\n",
    "    mmseqs result2repseq ./\"$T\"/\"$T\"DB ./\"$T\"/clusters/\"$T\"_clusteredDB ./\"$T\"/clusters/\"$T\"_clusteredDB_seq  # getting representative sequences for each cluster\n",
    "    mmseqs result2flat ./\"$T\"/\"$T\"DB ./\"$T\"/\"$T\"DB ./\"$T\"/clusters/\"$T\"_clusteredDB_seq ./\"$T\"/clusters/\"$T\"_clusteredDB_seq.fasta --use-fasta-header  # converting clustered sequences to fasta format\n",
    "done\n"
   ]
  },
  {
   "cell_type": "markdown",
   "metadata": {},
   "source": [
    "4- Filtering of subclusters with smaller than 5 proteins"
   ]
  },
  {
   "cell_type": "code",
   "execution_count": null,
   "metadata": {},
   "outputs": [],
   "source": [
    "# filtering of subclusters smaller than 5 in size\n",
    "for ko in list(ko_orth[0])[:30]:  # looping through the first 30 KO numbers\n",
    "    # getting clusters and finding large ones (>5)\n",
    "    clusters = pd.read_csv('./ko_proteins/'+ko+'/clusters/'+ko+\"_clusteredDB.tsv\",sep='\\t')  # reading cluster information from TSV file\n",
    "    clusters.columns= ['cluster', 'protein_id']  # renaling columns for clarity\n",
    "    cluster_counts = clusters['cluster'].value_counts()  # counting occurrences of each cluster\n",
    "    large_clusters = cluster_counts[cluster_counts > 5].index.tolist()  # getting indices of clusters larger than 5\n",
    "    \n",
    "    # saveing information for each large subcluster in a fasta file\n",
    "    for c in range(len(large_clusters)):  # Loop through each large cluster\n",
    "        subcluster = list(clusters[clusters['cluster'] == large_clusters[c]]['protein_id'].str.strip())  # Get protein IDs for the current large cluster\n",
    "        filtered_sequences = []\n",
    "        for record in SeqIO.parse('./ko_proteins/'+ko+'.fasta', \"fasta\"):  # iterating through protein sequences\n",
    "            if record.id in subcluster:  # checking if the protein ID belongs to the current subcluster\n",
    "                filtered_sequences.append(record)  # adding the protein sequence to the list of filtered sequences\n",
    "        output_fasta_file = './ko_proteins/subcluster/'+ko+'_'+str(c).zfill(2)+'.fasta'  # Define output fasta file path\n",
    "        SeqIO.write(filtered_sequences, output_fasta_file, \"fasta\")  # Write filtered sequences to a fasta file\n"
   ]
  },
  {
   "cell_type": "markdown",
   "metadata": {},
   "source": [
    "4- Aligning subcluster with more than five KEGG proteins using MAFFT."
   ]
  },
  {
   "cell_type": "code",
   "execution_count": null,
   "metadata": {
    "vscode": {
     "languageId": "shellscript"
    }
   },
   "outputs": [],
   "source": [
    "# aligning subclusters with more than five KEGG proteins using MAFFT\n",
    "\n",
    "mkdir -p ./models_and_data/ko_proteins/aligned_subcluster/  # create directory for aligned subclusters\n",
    "for T in ./models_and_data/ko_proteins/subcluster/*.fasta; do  # loop through each fasta file in subcluster directory\n",
    "    T=$(basename \"$T\" .fasta)  # extract the basename of the fasta file without the .fasta extension\n",
    "    ./mafft-linux64/mafft.bat ./models_and_data/ko_proteins/subcluster/\"$T\".fasta > ./models_and_data/ko_proteins/aligned_subcluster/\"$T\".fasta  # align fasta file using MAFFT and save the aligned sequences\n",
    "done\n",
    "\n"
   ]
  },
  {
   "cell_type": "markdown",
   "metadata": {},
   "source": [
    "5- Construction of profile HMM with HMMer suite."
   ]
  },
  {
   "cell_type": "code",
   "execution_count": null,
   "metadata": {
    "vscode": {
     "languageId": "shellscript"
    }
   },
   "outputs": [],
   "source": [
    "# construction of profile HMM with HMMer suite\n",
    "\n",
    "mkdir -p ./models_and_data/ko_proteins/hmm_profiles/  # create directory for HMM profiles\n",
    "for T in ./models_and_data/ko_proteins/aligned_subcluster/*.fasta; do  # loop through each aligned subcluster fasta file\n",
    "    T=$(basename \"$T\" .fasta)  # extract the basename of the fasta file without the .fasta extension\n",
    "    hmmbuild ./models_and_data/ko_proteins/hmm_profiles/\"$T\".hmm ./models_and_data/ko_proteins/aligned_subcluster/\"$T\".fasta  # build HMM profile using aligned sequences\n",
    "done\n",
    "cat ./models_and_data/ko_proteins/hmm_profiles/*.hmm > ./models_and_data/ko_proteins/hmm_profiles/ko_hmm_database.hmm  # concatenate all HMM profiles into a single database file\n"
   ]
  },
  {
   "cell_type": "markdown",
   "metadata": {},
   "source": [
    "6 - Seraching proetins against HMM profile."
   ]
  },
  {
   "cell_type": "code",
   "execution_count": null,
   "metadata": {
    "vscode": {
     "languageId": "shellscript"
    }
   },
   "outputs": [],
   "source": [
    "\n",
    "mkdir -p ./models_and_data/ko_proteins/hmm_match/\n",
    "KO_HMM_DB_DIR=\"./models_and_data/ko_proteins/hmm_profiles/\"\n",
    "OUTPUT_DIR=\"./models_and_data/ko_proteins/hmm_match/\"\n",
    "\n",
    "# creation array of HMM profiles\n",
    "HMM_PROFILES=(\"${KO_HMM_DB_DIR}\"*.hmm)\n",
    "\n",
    "#looping over teh folders heirachy to get all the files\n",
    "for T in ./models_and_data/annotations/*/; do\n",
    "    T=${T%/}\n",
    "    for D in \"$T\"/*/; do\n",
    "        D=${D%/}\n",
    "        D2=$(basename \"$D\")\n",
    "        for F in \"$D\"/*.faa; do\n",
    "            F2=$(basename \"$F\" .faa)\n",
    "            \n",
    "            # creating temporary files for concatenated results\n",
    "            MATCHES_FILE=\"${OUTPUT_DIR}${D2}_${F2}_matches.tbl\"\n",
    "            DOMAINS_FILE=\"${OUTPUT_DIR}${D2}_${F2}_domains.tbl\"\n",
    "            > \"$MATCHES_FILE\"  # emptying the file if it exists\n",
    "            > \"$DOMAINS_FILE\"  # emptying the file if it exists\n",
    "            \n",
    "            for KO_HMM_DB in \"${HMM_PROFILES[@]}\"; do\n",
    "                hmmsearch --cpu 4 \\\n",
    "                          --tblout temp_matches.tbl \\\n",
    "                          --domtblout temp_domains.tbl \\\n",
    "                          -E 1e-6 \"$KO_HMM_DB\" \"$F\"\n",
    "                \n",
    "                # appending the results to the consolidated files\n",
    "                cat temp_matches.tbl >> \"$MATCHES_FILE\"\n",
    "                cat temp_domains.tbl >> \"$DOMAINS_FILE\"\n",
    "            done\n",
    "            \n",
    "            # cleaning up temporary files\n",
    "            rm temp_matches.tbl temp_domains.tbl\n",
    "        done\n",
    "    done\n",
    "done\n"
   ]
  },
  {
   "cell_type": "markdown",
   "metadata": {},
   "source": [
    "## Step3: Corpus generation and word embeddings\n",
    "\n",
    "\n",
    "1- I assigned proteins significantly matching a KO HMM (E-value threshold of 10−6) an identifier according to the best scoring KO subcluster."
   ]
  },
  {
   "cell_type": "code",
   "execution_count": null,
   "metadata": {},
   "outputs": [],
   "source": [
    "# assining ko subclusters to protein based on hmmsearch\n",
    "def parse_hmmsearch_output(file_pattern):\n",
    "    '''\n",
    "    a function to assign ko subclusters to protein based on hmmsearch if they pass a threshold of 1e-6 for p value\n",
    "    Input:\n",
    "        file_pattern, extension of files\n",
    "    Output:\n",
    "        list of assigned proteins, and a list of their representative ko\n",
    "    '''\n",
    "    assigned_proteins = []  # list to store assigned proteins\n",
    "    ko_ids = []  # list to store corresponding KO IDs\n",
    "    for filename in os.listdir('./ko_proteins/hmm_match/'):  # loop through files in hmm_match directory\n",
    "        best_match = None  # variable to store best match for each file\n",
    "        if not filename.endswith(file_pattern):  # check if file ends with specified pattern\n",
    "            continue\n",
    "        with open('./ko_proteins/hmm_match/'+filename) as f:  # open file for reading\n",
    "            for line in f:  # loop through each line in the file\n",
    "                if line.startswith('#') == False:  # check if line does not start with '#'\n",
    "                    fields = line.strip().split()  # split line into fields\n",
    "                    target_name = fields[0]  # get target name\n",
    "                    query_name = fields[2]  # get query name\n",
    "                    e_value = float(fields[4])  # get E value\n",
    "                    score = float(fields[5])  # get score\n",
    "                    if e_value <= 1e-6:  # check if E value is less than or equal to threshold\n",
    "                        if best_match is None or score > best_match['score']:  # check if current match is better than previous best match\n",
    "                            best_match = {  # store information of best match\n",
    "                                'target_name': target_name,\n",
    "                                'query_name': query_name,\n",
    "                                'e_value': e_value,\n",
    "                                'score': score}\n",
    "        if best_match != None:  # check if best match exists\n",
    "            assigned_proteins.append(best_match['target_name'])  # append assigned protein to list\n",
    "            ko_ids.append(best_match['query_name'])  # append corresponding KO ID to list\n",
    "    return assigned_proteins, ko_ids  # return tuple of lists\n",
    "\n",
    "# Call the function to parse hmmsearch output and assign KO subclusters to proteins\n",
    "assigned_proteins, ko_ids = parse_hmmsearch_output('_matches.tbl')\n"
   ]
  },
  {
   "cell_type": "markdown",
   "metadata": {},
   "source": [
    "3- Compiling the fasts file of unassigned proteins sequences."
   ]
  },
  {
   "cell_type": "code",
   "execution_count": 94,
   "metadata": {},
   "outputs": [],
   "source": [
    "# compiling the list of unassigned proteins in a fasta file\n",
    "def extract_hypothetical_proteins(ko_assignments):\n",
    "    '''\n",
    "    a function to compila the fasta file of unassigned proteins\n",
    "    INput:\n",
    "        the list of assigned proteins\n",
    "    Output:\n",
    "        save a fasta file of usassigned proteins and their sequences\n",
    "    '''\n",
    "    taxonomies = ['Archaea', 'Bacteria', 'metagenomes']  # list of taxonomies\n",
    "    unique_sequences = set()  # set to store unique protein sequences\n",
    "    with open(\"./hypothetical_list.fasta\", \"w\") as out_f:  # open target file for writing\n",
    "        for tax in taxonomies:  # loop over taxonomies\n",
    "            for file in os.listdir('./annotations/'+tax+'/'):  # loop over files in taxonomy directory\n",
    "                for faa_file in glob.glob('./annotations/'+tax+'/'+file+'/*.faa'):  # loop over faa files in taxonomy directory\n",
    "                    for record in SeqIO.parse(faa_file, \"fasta\"):  # iterate over records in faa file\n",
    "                        if record.id not in ko_assignments:  # check if protein is not assigned to KO\n",
    "                            if str(record.seq) not in unique_sequences:  # check for sequence uniqueness\n",
    "                                unique_sequences.add(str(record.seq))  # add sequence to set\n",
    "                                SeqIO.write(record, out_f, \"fasta\")  # write record to output file\n",
    "\n",
    "# Example usage:\n",
    "extract_hypothetical_proteins(assigned_proteins)  # call the function to compile the list of unassigned proteins"
   ]
  },
  {
   "cell_type": "markdown",
   "metadata": {},
   "source": [
    "4- clustering them based on amino acid sequence similarity using cd-hit and then subclustering using mmseq2 using the same previous parameters."
   ]
  },
  {
   "cell_type": "code",
   "execution_count": null,
   "metadata": {
    "vscode": {
     "languageId": "shellscript"
    }
   },
   "outputs": [],
   "source": [
    "\n",
    "# clustring proteins using CD-HIT with a sequence identity threshold of 80%\n",
    "cd-hit -i hypothetical_list.fasta -o clustered_proteins.fasta -c 0.80 -s 0.80\n",
    "\n",
    "# creating a MMseqs2 database from the clustered proteins fasta file\n",
    "mmseqs createdb clustered_proteins.fasta clustered_proteins_DB\n",
    "\n",
    "# clustering the proteins using MMseqs2 with a minimum sequence identity of 50% and a coverage threshold of 50%\n",
    "mmseqs cluster clustered_proteins_DB clustered_proteins_clu tmp --s 0.75 -c 0.5\n",
    "\n",
    "# generating a TSV file containing the clustering results\n",
    "mmseqs createtsv clustered_proteins_DB clustered_proteins_DB clustered_proteins_clu_DB clustered_proteins.tsv\n"
   ]
  },
  {
   "cell_type": "code",
   "execution_count": 96,
   "metadata": {},
   "outputs": [],
   "source": [
    "# getting a list of unassigned proteins and their hypothetical cluster\n",
    "def parse_clusters():\n",
    "    '''\n",
    "    function to parse resulting cluster and their proteins\n",
    "    output:\n",
    "        list of proteins and hypothetical clusters\n",
    "    '''\n",
    "    clusters = []  # list to store cluster IDs\n",
    "    proteins = []  # list to store protein IDs\n",
    "    cluster_num = 0  # variable to track cluster number\n",
    "    cluster_gr = ''  # variable to track current cluster group\n",
    "    reader = pd.read_csv('clustered_proteins.tsv', delimiter='\\t', header=None)  # reading clustering results\n",
    "    reader.columns = ['protein', 'cluster']  # naling columns\n",
    "    for _, row in reader.iterrows():  # iterating over rows in the clustering results\n",
    "        protein_id = row['protein']  # getting protein ID\n",
    "        cluster_id = row['cluster']  # getting cluster ID\n",
    "        if cluster_id != cluster_gr:  # chacking if new cluster group\n",
    "            cluster_gr = cluster_id  # updating cluster group\n",
    "            cluster_num += 1  # increasing cluster number\n",
    "        clusters.append('hypo.clst.' + str(cluster_num).zfill(4))  # appending cluster ID to list\n",
    "        proteins.append(protein_id)  # apoending protein ID to list\n",
    "    return proteins, clusters  # returning lists of proteins and clusters\n",
    "\n",
    "# calling the function to parse clusters\n",
    "unassigned_proteins, hypo_ids = parse_clusters()\n",
    "\n",
    "# merging all proteins and clusters into one dataframe\n",
    "proteins_clusters = pd.DataFrame({'proteins': assigned_proteins + unassigned_proteins, 'clusters': ko_ids + hypo_ids})\n",
    "\n"
   ]
  },
  {
   "cell_type": "markdown",
   "metadata": {},
   "source": [
    "5- Generating corpus files, where each contig is considered a sentence and each protein is replaced by a word."
   ]
  },
  {
   "cell_type": "code",
   "execution_count": null,
   "metadata": {},
   "outputs": [],
   "source": [
    "os.makedirs('./gen_corpus/', exist_ok=True)\n",
    "def generate_corpus():\n",
    "    '''\n",
    "    function to replace contigs woth representative words\n",
    "    Output: \n",
    "        for each organism, a text file is created with protein in each contig replaced by cluster, seperated by space\n",
    "        and contigs seperated by . as sentences\n",
    "    '''\n",
    "    taxonomies = ['Bacteria', 'metagenomes', 'Viruses', 'Archaea']  # list of taxonomies\n",
    "    for tax in taxonomies:  # loop through each taxonomy\n",
    "        for filename in os.listdir('./annotations/'+tax+'/'):  # iterate through files in taxonomy directory\n",
    "            with open('./gen_corpus/'+filename+'.txt', 'w') as file:  # open file for writing\n",
    "                for faa_file in glob.glob('./annotations/'+tax+'/'+filename+'/*.faa'):  # iterate through faa files\n",
    "                    for record in SeqIO.parse(faa_file, \"fasta\"):  # iterate through records in fasta file\n",
    "                        # replace proteins with subcluster names\n",
    "                        word = proteins_clusters.loc[proteins_clusters['proteins'] == record.id, 'clusters'].iloc[0]\n",
    "                        file.write(\" \"+ word)  # write word to file\n",
    "                    file.write('.')  # write '.' to indicate end of contig\n",
    "                     \n",
    "# Call the function to generate the corpus\n",
    "generate_corpus()"
   ]
  },
  {
   "cell_type": "markdown",
   "metadata": {},
   "source": [
    "## Word embedding\n",
    "\n",
    "After compiling the dataset and replacing proteins by by their subcluster_id, I did word emmbedding using word2vec.\n",
    "\n"
   ]
  },
  {
   "cell_type": "code",
   "execution_count": 2,
   "metadata": {},
   "outputs": [
    {
     "name": "stdout",
     "output_type": "stream",
     "text": [
      "Number of files in corpus: 80965\n"
     ]
    },
    {
     "name": "stderr",
     "output_type": "stream",
     "text": [
      "100%|██████████| 80965/80965 [01:49<00:00, 739.59it/s] \n"
     ]
    }
   ],
   "source": [
    "# loading the files\n",
    "texts = glob.glob('./corpus/*')  # getting a list of file paths in the 'corpus' directory\n",
    "texts.sort()  # sorting the list of file paths\n",
    "print(f\"Number of files in corpus: {len(texts)}\")  # printing the number of files in the corpus\n",
    "\n",
    "# adding all the files in one string (corpus)\n",
    "with open('outputs/tokens.csv', 'w') as file:  # opening a file 'tokens.csv' for writing\n",
    "    writer = csv.writer(file)  # creating a CSV writer object\n",
    "    for t in tqdm(texts):  # iterating through each file path in the 'texts' list\n",
    "        with codecs.open(t, \"r\", \"utf-8\") as text:  # opening the file for reading\n",
    "            paragraph = text.read()  # reading the entire contents of the file as a string\n",
    "            sentences = paragraph.split(\". \")  # splitting the paragraph into sentences based on '.' as delimiter\n",
    "            for sentence in sentences:  # iterating through each sentence\n",
    "                if len(sentence) > 0:  # chacking if the sentence is not empty\n",
    "                    writer.writerow([sentence])  # writing the sentence to the CSV file as a single row\n"
   ]
  },
  {
   "cell_type": "markdown",
   "metadata": {},
   "source": [
    "2- Building the word2vec model."
   ]
  },
  {
   "cell_type": "code",
   "execution_count": 4,
   "metadata": {},
   "outputs": [
    {
     "name": "stdout",
     "output_type": "stream",
     "text": [
      "Gene2Vec vocabulary length: 563841\n"
     ]
    }
   ],
   "source": [
    "# load corpus line by line\n",
    "sentences = LineSentence('outputs/tokens.csv')  # load the corpus line by line from 'tokens.csv'\n",
    "\n",
    "# building the word2vec model\n",
    "emb_model = w2v.Word2Vec(  # initiate a Word2Vec model\n",
    "        sg=1,  # use Skip-gram architecture\n",
    "        seed=42,  # set the random seed for reproducibility\n",
    "        workers=multiprocessing.cpu_count(),  # use all available CPU cores\n",
    "        vector_size=300,  # set the dimensionality of the word vectors to 300\n",
    "        min_count=24,  # ignore all words with total frequency lower than 24\n",
    "        window=5,  # set the maximum distance between the current and predicted word within a sentence to 5\n",
    "        sample=1e-3  # set the threshold for configuring which higher-frequency words are randomly downsampled\n",
    "    )\n",
    "emb_model.build_vocab(sentences)  # build the vocabulary from the corpus\n",
    "print(\"Gene2Vec vocabulary length:\", len(emb_model.wv.index_to_key))  # print the length of the vocabulary\n",
    "\n",
    "# training the model\n",
    "emb_model.train(sentences, total_examples=emb_model.corpus_count, epochs=5)  # train the Word2Vec model for 5 epochs\n",
    "\n",
    "# save model\n",
    "emb_model.save('outputs/emb_model_24')  # save the trained Word2Vec model to 'emb_model_24'\n"
   ]
  },
  {
   "cell_type": "markdown",
   "metadata": {},
   "source": [
    "## Classification\n",
    "\n"
   ]
  },
  {
   "cell_type": "markdown",
   "metadata": {},
   "source": [
    "1- splitting the knowen functions from hypothetical clusters to train the model on the first."
   ]
  },
  {
   "cell_type": "code",
   "execution_count": 109,
   "metadata": {},
   "outputs": [],
   "source": [
    "# loading word2vec model\n",
    "emb_model = Word2Vec.load(\"outputs/emb_model_24\")  # loading the trained Word2Vec model from \"emb_model_24\"\n",
    "\n",
    "# splitting known and unknown embeddings\n",
    "idxs = [emb_model.wv.index_to_key.index(word) for word in emb_model.wv.index_to_key if 'hypo' not in word]  # getting indices of known words\n",
    "known_words = [word for word in emb_model.wv.index_to_key if 'hypo' not in word]  # getting list of known words\n",
    "known_word2index = {'word': known_words, 'index': idxs}  # creating a dictionary mapping known words to their indices\n",
    "\n",
    "predict_idxs = [i for i in range(563589) if i not in idxs]  # getting indices of unknown words\n",
    "predict_embeddings = emb_model.wv.vectors[predict_idxs]  # extracting embeddings of unknown words\n",
    "predict_word_index = {emb_model.wv.index_to_key[word]: i for i, word in enumerate(predict_idxs)}  # creating a dictionary mapping unknown words to their indices\n"
   ]
  },
  {
   "cell_type": "markdown",
   "metadata": {},
   "source": [
    "2- Loading and merging y data"
   ]
  },
  {
   "cell_type": "code",
   "execution_count": 32,
   "metadata": {},
   "outputs": [],
   "source": [
    "## loading metadata for function and getting function of each word (suncluster)\n",
    "metadata = pd.read_csv('metadata.csv') \n",
    "metadata['label'] = metadata['label'].apply(lambda x: re.split('(.)\\[|\\(|,', x)[0].strip()) #"
   ]
  },
  {
   "cell_type": "markdown",
   "metadata": {},
   "source": [
    "3- keeping classes from curated list and adding samples from the rest classes as others"
   ]
  },
  {
   "cell_type": "code",
   "execution_count": 33,
   "metadata": {},
   "outputs": [],
   "source": [
    "# loading metadata for function and getting function of each word (subcluster)\n",
    "metadata = pd.read_csv('metadata.csv')  # Load metadata from 'metadata.csv' file\n",
    "metadata['label'] = metadata['label'].apply(lambda x: re.split('(.)\\[|\\(|,', x)[0].strip())  # Extract function label from each entry in 'label' column\n",
    "# if word does not belong to one of the curated labels it is considered as other\n",
    "curated_labels_no_pumps = ['Amino sugar and nucleotide sugar metabolism',\n",
    "                  'Benzoate degradation',\n",
    "                  'Energy metabolism',\n",
    "                  'Oxidative phosphorylation',\n",
    "                  'Porphyrin and chlorophyll metabolism',\n",
    "                  'Prokaryotic defense system',\n",
    "                  'Ribosome',\n",
    "                  'Secretion system',\n",
    "                  'Two-component system']\n",
    "\n",
    "# keeping only targets from list, rest are Other class\n",
    "eff_words = pd.DataFrame(known_word2index)  # creating DataFrame from known_word2index dictionary\n",
    "eff_words[\"KO\"] = eff_words[\"word\"].apply(lambda x: x.rsplit(\".\")[0])  # extracting KO number from word\n",
    "eff_words = eff_words.merge(metadata, on=[\"KO\"], how='left')[[\"word\",\"index\",'label']]  # merging with metadata, keeping only relevant columns\n",
    "\n",
    "chosen_df = eff_words[eff_words['label'].isin(curated_labels_no_pumps)]  # filtering DataFrame to include only chosen labels\n",
    "# finding categories not in the chosen list\n",
    "other_categories = eff_words[~eff_words['label'].isin(curated_labels_no_pumps)]['label'].unique()\n",
    "\n",
    "# initiating an empty list for the \"Other\" category KOs\n",
    "other_category_KOs = pd.DataFrame(columns=['word', 'index'])\n",
    "\n",
    "# sampling 20 KOs from each category not in chosen_categories if it has more than 50 KOs\n",
    "for category in other_categories:\n",
    "    category_KOs = eff_words[eff_words['label'] == category]  # filtering DataFrame to include only KOs from current category\n",
    "    if len(category_KOs) > 150:  # checking if the category has more than 150 KOs\n",
    "        sampled_KOs = category_KOs.sample(n=100, random_state=42)[['word', 'index']]  # sampling 100 KOs from the category\n",
    "        other_category_KOs = pd.concat([other_category_KOs, sampled_KOs])  # concatenating sampled KOs with other_category_KOs\n",
    "\n",
    "# adding the sampled words to the chosen classes\n",
    "other_df = pd.DataFrame({'word': other_category_KOs['word'],'index': other_category_KOs['index'], 'label': ['Other'] * other_category_KOs.shape[0]})\n",
    "\n",
    "# combonong with the original DataFrame\n",
    "combined_df = pd.concat([chosen_df, other_df], ignore_index=True)\n",
    "\n",
    "# getting the embedding of the words\n",
    "known_embeddings = emb_model.wv.vectors[list(combined_df['index'])]  # getting embeddings of the words based on their indices\n"
   ]
  },
  {
   "cell_type": "markdown",
   "metadata": {},
   "source": [
    "4- splitting data into train and test datasets"
   ]
  },
  {
   "cell_type": "code",
   "execution_count": 34,
   "metadata": {},
   "outputs": [],
   "source": [
    "# split data into test and train\n",
    "train_x, test_x, train_y, test_y = train_test_split(known_embeddings, combined_df['label'], test_size=0.2, stratify= combined_df['label'], random_state = 42)\n",
    "\n",
    "# encoding classes as nulbers\n",
    "label_encoder = LabelEncoder()\n",
    "train_y_encoded = label_encoder.fit_transform(train_y)"
   ]
  },
  {
   "cell_type": "markdown",
   "metadata": {},
   "source": [
    "5- testing and tuning parameters:\n",
    "\n",
    "Models tested and hypertuned are:\n",
    "* Random forest\n",
    "* XGBoost\n",
    "* Three-layered CNN\n",
    "\n",
    "The best model was CNN with 92% accuracy on test dataset.\n",
    "The scoring function used for optimizing was F1  sore."
   ]
  },
  {
   "cell_type": "code",
   "execution_count": 51,
   "metadata": {},
   "outputs": [],
   "source": [
    "# search space for random forest\n",
    "random_grid = {'bootstrap': [True, False],\n",
    " 'max_depth': [5,10, 20, 30, 50, None],\n",
    " 'max_features': ['auto', 'sqrt'],\n",
    " 'min_samples_leaf': [1, 2, 4],\n",
    " 'min_samples_split': [2, 5, 10],\n",
    " 'n_estimators': [200, 400,800]}\n",
    "\n",
    "# search space for xgboost\n",
    "\n",
    "params = {\n",
    "        'n_estimators':[200, 400, 800],\n",
    "        'min_child_weight': [1, 5, 10],\n",
    "        'gamma': [0.5, 1, 1.5, 2, 5],\n",
    "        'subsample': [0.6, 0.8, 1.0],\n",
    "        'colsample_bytree': [0.6, 0.8, 1.0],\n",
    "        'max_depth': [5,10, 20, 30, 50, None]\n",
    "        }"
   ]
  },
  {
   "cell_type": "code",
   "execution_count": 59,
   "metadata": {},
   "outputs": [
    {
     "name": "stdout",
     "output_type": "stream",
     "text": [
      "                                             precision    recall  f1-score   support\n",
      "\n",
      "Amino sugar and nucleotide sugar metabolism       1.00      0.02      0.03        62\n",
      "                       Benzoate degradation       0.00      0.00      0.00        34\n",
      "                          Energy metabolism       1.00      0.14      0.25        42\n",
      "                                      Other       0.54      0.98      0.70       860\n",
      "                  Oxidative phosphorylation       1.00      0.13      0.23        84\n",
      "       Porphyrin and chlorophyll metabolism       1.00      0.07      0.14        55\n",
      "                 Prokaryotic defense system       0.96      0.49      0.65       174\n",
      "                                   Ribosome       0.95      0.18      0.31        98\n",
      "                           Secretion system       0.90      0.67      0.77       323\n",
      "                       Two-component system       1.00      0.12      0.21       235\n",
      "\n",
      "                                   accuracy                           0.62      1967\n",
      "                                  macro avg       0.83      0.28      0.33      1967\n",
      "                               weighted avg       0.76      0.62      0.55      1967\n",
      "\n"
     ]
    }
   ],
   "source": [
    "# hypertuning and fitting random forest\n",
    "rf_model = RandomForestClassifier(random_state = 42)\n",
    "rf_random = RandomizedSearchCV(estimator = rf_model, param_distributions = random_grid, \n",
    "                                cv = 3, random_state=42, n_jobs = -1,verbose=0, scoring='f1_weighted')\n",
    "rf_random.fit(train_x, train_y)\n",
    "best_fit_rf = rf_random.best_estimator_\n",
    "\n",
    "# fitting of the best model train data\n",
    "best_fit_rf.fit(train_x, train_y)\n",
    "\n",
    "#saving the model\n",
    "with open('outputs/model_rf_cl_acc.pkl','wb') as f:\n",
    "    pickle.dump(best_fit_rf,f)\n",
    "\n",
    "#testing the model\n",
    "predict_y = best_fit_rf.predict(test_x)\n",
    "print(classification_report(test_y, predict_y))\n",
    "\n",
    "#saving scores\n",
    "accurac_rf = accuracy_score(test_y, predict_y)\n",
    "f1_rf = f1_score(test_y, predict_y, average='weighted')"
   ]
  },
  {
   "cell_type": "code",
   "execution_count": 60,
   "metadata": {},
   "outputs": [
    {
     "name": "stdout",
     "output_type": "stream",
     "text": [
      "                                             precision    recall  f1-score   support\n",
      "\n",
      "Amino sugar and nucleotide sugar metabolism       0.69      0.32      0.44        62\n",
      "                       Benzoate degradation       0.83      0.56      0.67        34\n",
      "                          Energy metabolism       0.76      0.45      0.57        42\n",
      "                                      Other       0.67      0.87      0.76       860\n",
      "                  Oxidative phosphorylation       0.83      0.52      0.64        84\n",
      "       Porphyrin and chlorophyll metabolism       0.89      0.44      0.59        55\n",
      "                 Prokaryotic defense system       0.84      0.76      0.80       174\n",
      "                                   Ribosome       0.75      0.42      0.54        98\n",
      "                           Secretion system       0.81      0.75      0.78       323\n",
      "                       Two-component system       0.75      0.55      0.64       235\n",
      "\n",
      "                                   accuracy                           0.72      1967\n",
      "                                  macro avg       0.78      0.56      0.64      1967\n",
      "                               weighted avg       0.74      0.72      0.71      1967\n",
      "\n"
     ]
    }
   ],
   "source": [
    "# training and hypertuning xgboost model\n",
    "xgb_model = xgb.XGBClassifier(random_state = 42)\n",
    "xgb_random = RandomizedSearchCV(xgb_model, param_distributions=params,\n",
    "                                cv = 3, random_state=42, n_jobs = -1,verbose=0, scoring = 'f1_weighted')\n",
    "\n",
    "# fitting the  best model with train data\n",
    "xgb_random.fit(train_x, train_y_encoded)\n",
    "best_fit_xgb = xgb_random.best_estimator_\n",
    "\n",
    "# fitting with thz whole dataset\n",
    "best_fit_xgb.fit(train_x, train_y_encoded)\n",
    "\n",
    "# saving the best model\n",
    "with open('outputs/model_xgb_cl_acc.pkl','wb') as f:\n",
    "    pickle.dump(best_fit_xgb,f)\n",
    "#testing the model with test data\n",
    "predict_y = best_fit_xgb.predict(test_x)\n",
    "print(classification_report(test_y, label_encoder.inverse_transform(predict_y)))\n",
    "\n",
    "#saving scores\n",
    "accurac_xgb = accuracy_score(test_y, label_encoder.inverse_transform(predict_y))\n",
    "f1_xgb = f1_score(test_y, label_encoder.inverse_transform(predict_y), average='weighted')\n"
   ]
  },
  {
   "cell_type": "code",
   "execution_count": null,
   "metadata": {},
   "outputs": [],
   "source": [
    "# build the cnn structure\n",
    "class DNN_network_acc():\n",
    "    def __init__(self):\n",
    "        super().__init__()\n",
    "        self.name = \"DNN_network_acc\"\n",
    "\n",
    "    def create_model(self, n):  \n",
    "        '''\n",
    "        building the three layers with relu activationa nd ouput layer with softmax\n",
    "        '''\n",
    "        # compiling the model\n",
    "        model = tf.keras.models.Sequential([tf.keras.layers.Input(shape=(300,)),\n",
    "                                            tf.keras.layers.Dense(256, activation='relu'),\n",
    "                                            tf.keras.layers.Dropout(0.2),\n",
    "                                            tf.keras.layers.Dense(128, activation='relu'),\n",
    "                                            tf.keras.layers.Dropout(0.2),\n",
    "                                            tf.keras.layers.Dense(64, activation='relu'),\n",
    "                                            tf.keras.layers.Dense(n, activation='softmax')])\n",
    "        # setting the scoring function, optimizer and loss\n",
    "        model.compile(loss='sparse_categorical_crossentropy', optimizer='adam', metrics=[tf.keras.metrics.F1Score(average='weighted')])\n",
    "        return model\n",
    "\n",
    "    def model_fit(self, X_train, y_train_encoded):\n",
    "        '''\n",
    "        hypertuning the model\n",
    "        '''\n",
    "        #params to be hypertuned\n",
    "        param_dist = {  # Units per hidden layer\n",
    "            'batch_size': [64, 128,256],\n",
    "            'epochs': [10, 20, 30]\n",
    "        }\n",
    "\n",
    "        # defining anf fitting the model\n",
    "        clf = KerasClassifier(model=self.create_model(n=np.unique(y_train_encoded).size), verbose=0)\n",
    "        dnn_random = GridSearchCV(clf, param_grid=param_dist, cv=3, n_jobs=-1)\n",
    "        dnn_random.fit(X_train, y_train_encoded)\n",
    "\n",
    "        # refitting best estimator with the whole dataset\n",
    "        best_clf = dnn_random.best_estimator_\n",
    "        best_clf.fit(X_train, y_train_encoded)\n",
    "\n",
    "        return best_clf\n",
    "#finding the best cnn model after hypertunign\n",
    "dnn_network = DNN_network_acc()\n",
    "\n",
    "#fitting with the whole dataset\n",
    "best_fit_cnn = dnn_network.model_fit(train_x, train_y_encoded)"
   ]
  },
  {
   "cell_type": "code",
   "execution_count": 63,
   "metadata": {},
   "outputs": [
    {
     "name": "stdout",
     "output_type": "stream",
     "text": [
      "                                             precision    recall  f1-score   support\n",
      "\n",
      "Amino sugar and nucleotide sugar metabolism       0.69      0.53      0.60        62\n",
      "                       Benzoate degradation       0.80      0.71      0.75        34\n",
      "                          Energy metabolism       0.75      0.43      0.55        42\n",
      "                                      Other       0.74      0.85      0.79       860\n",
      "                  Oxidative phosphorylation       0.83      0.71      0.77        84\n",
      "       Porphyrin and chlorophyll metabolism       0.92      0.62      0.74        55\n",
      "                 Prokaryotic defense system       0.84      0.86      0.85       174\n",
      "                                   Ribosome       0.77      0.44      0.56        98\n",
      "                           Secretion system       0.86      0.82      0.84       323\n",
      "                       Two-component system       0.74      0.70      0.72       235\n",
      "\n",
      "                                   accuracy                           0.77      1967\n",
      "                                  macro avg       0.79      0.67      0.72      1967\n",
      "                               weighted avg       0.78      0.77      0.77      1967\n",
      "\n"
     ]
    }
   ],
   "source": [
    "#saving the model\n",
    "with open('outputs/model_cnn_cl_acc.pkl','wb') as f:\n",
    "    pickle.dump(best_fit_cnn,f)\n",
    "\n",
    "\n",
    "#testing the model with test dataset\n",
    "predict_y = best_fit_cnn.predict(test_x)\n",
    "\n",
    "print(classification_report(test_y, label_encoder.inverse_transform(predict_y)))\n",
    "\n",
    "#saving  accuracy and f1 scores\n",
    "accurac_cnn = accuracy_score(test_y, label_encoder.inverse_transform(predict_y))\n",
    "f1_cnn = f1_score(test_y, label_encoder.inverse_transform(predict_y), average='weighted')"
   ]
  },
  {
   "cell_type": "markdown",
   "metadata": {},
   "source": [
    "### Results\n",
    "\n",
    "The best model found is a CNN with 3 layers. THe accuracy of it is 77%. The performance of the model is better is some groups like secrestion systems and defense systems."
   ]
  },
  {
   "cell_type": "code",
   "execution_count": 89,
   "metadata": {},
   "outputs": [
    {
     "data": {
      "image/png": "[encoded data removed]",
      "text/plain": [
       "<Figure size 640x480 with 1 Axes>"
      ]
     },
     "metadata": {},
     "output_type": "display_data"
    }
   ],
   "source": [
    "# parameters to plot\n",
    "models = ['Random_forest', 'XGBoost', 'CNN']\n",
    "scores = {'accuracy': [accurac_rf, accurac_xgb, accurac_cnn], 'f1_score': [f1_rf, f1_xgb, f1_cnn]}\n",
    "\n",
    "#plotting bar plot of accuracy score\n",
    "x = np.arange(len(models))  # the label locations\n",
    "width = 0.35  # the width of the bars\n",
    "fig, ax = plt.subplots(layout='constrained')\n",
    "multiplier = 0\n",
    "\n",
    "#creating the bar plot\n",
    "for item, values in scores.items():\n",
    "    offset = width * multiplier\n",
    "    rects = ax.bar(x+offset, values, width, label=item)\n",
    "    ax.bar_label(rects, padding=3)\n",
    "    multiplier += 1\n",
    "\n",
    "# Add some text for labels, title and custom x-axis tick labels, etc.\n",
    "ax.set_ylabel('Score')\n",
    "ax.set_title('Accuracy and F1 score of different models')\n",
    "ax.set_xticks(x + width-0.19, models)\n",
    "ax.legend(loc='upper left', ncols=3)\n",
    "ax.set_ylim(0, 1)\n",
    "\n",
    "plt.show()"
   ]
  },
  {
   "cell_type": "code",
   "execution_count": 64,
   "metadata": {},
   "outputs": [
    {
     "data": {
      "text/plain": [
       "<Axes: >"
      ]
     },
     "execution_count": 64,
     "metadata": {},
     "output_type": "execute_result"
    },
    {
     "data": {
      "image/png": "[encoded data removed]",
      "text/plain": [
       "<Figure size 640x480 with 2 Axes>"
      ]
     },
     "metadata": {},
     "output_type": "display_data"
    }
   ],
   "source": [
    "#plotting classification report as heatmap of bes model\n",
    "sns.heatmap(pd.DataFrame(classification_report(test_y, label_encoder.inverse_transform(predict_y), output_dict=True)).iloc[:-1, :].T, annot=True)"
   ]
  },
  {
   "cell_type": "markdown",
   "metadata": {},
   "source": [
    "## Predicting functions of hypothetical clusters\n",
    "\n",
    "Most of the hypothetical clusters were predicted as other, however a considerable amount was predicted in other classes like secrestion system and Prokaryotic defense system with 15895, and 7755 cluster respectively."
   ]
  },
  {
   "cell_type": "code",
   "execution_count": 48,
   "metadata": {},
   "outputs": [],
   "source": [
    "# reloading the saved model\n",
    "with open('outputs/model_cnn_cl_acc.pkl', 'rb') as f:\n",
    "    model = pickle.load(f)\n",
    "\n",
    "# predicting hypothetical clusters\n",
    "hypo_prediction = model.predict(predict_embeddings)\n",
    "predict_class = label_encoder.inverse_transform(hypo_prediction)"
   ]
  },
  {
   "cell_type": "code",
   "execution_count": 78,
   "metadata": {},
   "outputs": [
    {
     "name": "stdout",
     "output_type": "stream",
     "text": [
      "<class 'matplotlib.container.BarContainer'>\n"
     ]
    },
    {
     "data": {
      "text/plain": [
       "[]"
      ]
     },
     "execution_count": 78,
     "metadata": {},
     "output_type": "execute_result"
    },
    {
     "data": {
      "image/png": "[encoded data removed]",
      "text/plain": [
       "<Figure size 640x480 with 1 Axes>"
      ]
     },
     "metadata": {},
     "output_type": "display_data"
    }
   ],
   "source": [
    "# plotting of the predicted classes_distribution\n",
    "values = pd.DataFrame(predict_class, columns=['predicted_class'])['predicted_class'].value_counts(dropna=False, ascending=True).keys().tolist()\n",
    "counts = pd.DataFrame(predict_class, columns=['predicted_class'])['predicted_class'].value_counts(dropna=False, ascending=True).tolist()\n",
    "\n",
    "\n",
    "#creating the bar plot\n",
    "fig, ax = plt.subplots()\n",
    "bars = ax.barh(values, counts)\n",
    "for container in ax.containers:\n",
    "    ax.bar_label(container)\n",
    "# Add some text for labels, title and custom x-axis tick labels, etc.\n",
    "ax.set_ylabel('Predicted Class')\n",
    "ax.set_title('Frequency of class prediction')\n",
    "ax.set_xticks([])\n",
    "\n"
   ]
  },
  {
   "cell_type": "markdown",
   "metadata": {},
   "source": [
    "### Testing on genes whise function is newly found.\n",
    "\n",
    "1- Prokaryotic defense systems: 413 protiens; 90% correctly predicted.\n",
    "\n",
    "\n",
    "2- Secretion systems: 3201 proteins 100% correctly predicted.\n"
   ]
  },
  {
   "cell_type": "code",
   "execution_count": 130,
   "metadata": {},
   "outputs": [
    {
     "name": "stdout",
     "output_type": "stream",
     "text": [
      "Counter({'Prokaryotic defense system': 370, 'Other': 43})\n",
      "{'Prokaryotic defense system': 89.58837772397095, 'Other': 10.411622276029057}\n"
     ]
    }
   ],
   "source": [
    "# loading new defense portiens and their mappings\n",
    "defense= pd.read_csv('./new_systems/domains/defense/hhpred_defense.csv')\n",
    "\n",
    "# getting the predicted classe of genes\n",
    "hypo_clusters_defense = defense['Gene'].to_list()\n",
    "classes_defense = []\n",
    "for cluster in hypo_clusters_defense:\n",
    "    index = predict_word_index[cluster]\n",
    "    classes_defense.append(predict_class[index])\n",
    "from collections import Counter\n",
    "\n",
    "# getting the percentage of resulting predictions\n",
    "counter= Counter(classes_defense)\n",
    "\n",
    "print(counter)\n",
    "\n",
    "total_count = sum(counter.values())\n",
    "\n",
    "# calculating percentages\n",
    "percentages = {key: (count / total_count) * 100 for key, count in counter.items()}\n",
    "\n",
    "print(percentages)"
   ]
  },
  {
   "cell_type": "code",
   "execution_count": 131,
   "metadata": {},
   "outputs": [
    {
     "name": "stdout",
     "output_type": "stream",
     "text": [
      "Counter({'Secretion system': 3201})\n",
      "{'Secretion system': 100.0}\n"
     ]
    }
   ],
   "source": [
    "# getting the data of secreion systems and their mapped clusters\n",
    "secretion_1= pd.read_csv('./new_systems/domains/clostridia_membrane_machineries/hhpred_clostridia_secretion.csv')\n",
    "secretion_2= pd.read_csv('./new_systems/domains/veillonella_membrane_machineries/hhpred_veillonella_secretion.csv')\n",
    "\n",
    "#getting their hypothetical class assignment\n",
    "hypo_clusters= []\n",
    "hypo_clusters+= secretion_1['Gene'].to_list()\n",
    "hypo_clusters+= secretion_2['Gene'].to_list()\n",
    "secrestion_classes = []\n",
    "for cluster in hypo_clusters:\n",
    "    index = predict_word_index[cluster]\n",
    "    secrestion_classes.append(predict_class[index])\n",
    "\n",
    "#finding the percentage of preidcted classes\n",
    "counter= Counter(secrestion_classes)\n",
    "print(counter)\n",
    "# Calculate total number of elements\n",
    "total_count = sum(counter.values())\n",
    "\n",
    "# calculating percentages\n",
    "percentages = {key: (count / total_count) * 100 for key, count in counter.items()}\n",
    "\n",
    "print(percentages)"
   ]
  },
  {
   "cell_type": "code",
   "execution_count": 136,
   "metadata": {},
   "outputs": [
    {
     "data": {
      "image/png": "[encoded data removed]",
      "text/plain": [
       "<Figure size 640x480 with 1 Axes>"
      ]
     },
     "metadata": {},
     "output_type": "display_data"
    }
   ],
   "source": [
    "# setting the data\n",
    "species = (\n",
    "    'Prokaryotic defense systems', 'Secretion systems'\n",
    ")\n",
    "weight_counts = {\n",
    "    \"Correct\": np.array([89.58837772397095, 100]),\n",
    "    \"Incorrect\": np.array([10.411622276029057, 0]),\n",
    "}\n",
    "width = 0.3 #setting the width of the bars\n",
    "\n",
    "fig, ax = plt.subplots()\n",
    "bottom = np.zeros(2)\n",
    "\n",
    "# Plotting the bars\n",
    "for boolean, weight_count in weight_counts.items():\n",
    "    p = ax.bar(species, weight_count, width, label=boolean, bottom=bottom)\n",
    "    bottom += weight_count\n",
    "\n",
    "ax.set_title(\"Percentage of correct predictions\")\n",
    "ax.legend(loc=\"upper right\")  # adding legend to the plot\n",
    "\n",
    "plt.show()  # diplaying the plot\n"
   ]
  },
  {
   "cell_type": "markdown",
   "metadata": {},
   "source": [
    "## Discussion\n",
    "\n",
    "* Using NLP techniques, it was possible to build a classification model to predict gene function based on it context.\n",
    "\n",
    "* Systems whose genes are known to co-occur, abundant, and has its genes clusteres in one to KOs were better predicted.\n",
    "\n",
    "## Perspectives\n",
    "\n",
    "* Testing on more data for various classes\n",
    "\n",
    "* Trying different techniques like Glove for embedding since it studies ‘words’ in the context of the whole corpus.\n",
    "\n",
    "* Revsiting preprocessing steps, especially filtering and threshold, and clusturing\n",
    "\n"
   ]
  },
  {
   "cell_type": "markdown",
   "metadata": {},
   "source": []
  }
 ],
 "metadata": {
  "kernelspec": {
   "display_name": "ml-utils-nowP9Oo2-py3.12",
   "language": "python",
   "name": "python3"
  },
  "language_info": {
   "codemirror_mode": {
    "name": "ipython",
    "version": 3
   },
   "file_extension": ".py",
   "mimetype": "text/x-python",
   "name": "python",
   "nbconvert_exporter": "python",
   "pygments_lexer": "ipython3",
   "version": "3.12.2"
  }
 },
 "nbformat": 4,
 "nbformat_minor": 2
}
